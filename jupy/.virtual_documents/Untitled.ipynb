from ultralytics import YOLO

# Load a pretrained YOLO11n model
model = YOLO("yolo11n.pt")

# Define path to the image file
source = "F:/Uni/firenet-pdavis/output/ball/reconstruction/frame_6807940.png"

# Run inference on the source
results = model(source)  # list of Results objects


results


model = YOLO("yolo11n.pt")

# Define path to the image file
source = "F:/Uni/firenet-pdavis/output/ball/reconstruction/frame_6807940.png"

# Run inference on the source
results = model(source)  # list of Results objects


count = 1
for result in results:
    boxes = result.boxes  # Boxes object for bounding box outputs
    masks = result.masks  # Masks object for segmentation masks outputs
    keypoints = result.keypoints  # Keypoints object for pose outputs
    probs = result.probs  # Probs object for classification outputs
    obb = result.obb  # Oriented boxes object for OBB outputs
    result.show()  # display to screen
    filename = "result_"+str(count)+".jpg"
    result.save(filename)  # save to disk
    count =+1


results = model(source="F:/Uni/firenet-pdavis/output/ball/reconstruction/")


count = 1
for result in results:
    boxes = result.boxes  # Boxes object for bounding box outputs
    masks = result.masks  # Masks object for segmentation masks outputs
    keypoints = result.keypoints  # Keypoints object for pose outputs
    probs = result.probs  # Probs object for classification outputs
    obb = result.obb  # Oriented boxes object for OBB outputs
    #result.show()  # display to screen
    filename = "result_"+str(count)+".jpg"
    count =+1
    result.save(filename)  # save to disk
    


results = model(source="F:/Uni/firenet-pdavis/output/selfie/1/")





count = 1
for result in results:
    boxes = result.boxes  # Boxes object for bounding box outputs
    masks = result.masks  # Masks object for segmentation masks outputs
    keypoints = result.keypoints  # Keypoints object for pose outputs
    probs = result.probs  # Probs object for classification outputs
    obb = result.obb  # Oriented boxes object for OBB outputs
    #result.show()  # display to screen
    filename = "./selfieInv/result_"+str(count)+".jpg"
    print(filename)
    count = count + 1
    result.save(filename)  # save to disk


results = model(source="F:/Uni/firenet-pdavis/output/office_zigzag/reconstruction")
count = 1
for result in results:
    boxes = result.boxes  # Boxes object for bounding box outputs
    masks = result.masks  # Masks object for segmentation masks outputs
    keypoints = result.keypoints  # Keypoints object for pose outputs
    probs = result.probs  # Probs object for classification outputs
    obb = result.obb  # Oriented boxes object for OBB outputs
    #result.show()  # display to screen
    filename = "./officezigzag/result_"+str(count)+".jpg"
    print(filename)
    count = count + 1
    result.save(filename)  # save to disk


cd


















